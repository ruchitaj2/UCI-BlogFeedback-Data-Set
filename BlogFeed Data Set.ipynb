{
 "cells": [
  {
   "cell_type": "markdown",
   "metadata": {},
   "source": [
    "## UCI BlogFeedback Data Set Regression Analysis"
   ]
  },
  {
   "cell_type": "code",
   "execution_count": 1,
   "metadata": {},
   "outputs": [],
   "source": [
    "#Importing the data from the URL : https://archive.ics.uci.edu/ml/machine-learning-databases/00304/\n",
    "# Import data in pandas dataframe\n",
    "\n",
    "#!pip install pandas\n",
    "import pandas as pd"
   ]
  },
  {
   "cell_type": "code",
   "execution_count": 2,
   "metadata": {},
   "outputs": [
    {
     "data": {
      "text/html": [
       "<div>\n",
       "<style scoped>\n",
       "    .dataframe tbody tr th:only-of-type {\n",
       "        vertical-align: middle;\n",
       "    }\n",
       "\n",
       "    .dataframe tbody tr th {\n",
       "        vertical-align: top;\n",
       "    }\n",
       "\n",
       "    .dataframe thead th {\n",
       "        text-align: right;\n",
       "    }\n",
       "</style>\n",
       "<table border=\"1\" class=\"dataframe\">\n",
       "  <thead>\n",
       "    <tr style=\"text-align: right;\">\n",
       "      <th></th>\n",
       "      <th>0</th>\n",
       "      <th>1</th>\n",
       "      <th>2</th>\n",
       "      <th>3</th>\n",
       "      <th>4</th>\n",
       "      <th>5</th>\n",
       "      <th>6</th>\n",
       "      <th>7</th>\n",
       "      <th>8</th>\n",
       "      <th>9</th>\n",
       "      <th>...</th>\n",
       "      <th>271</th>\n",
       "      <th>272</th>\n",
       "      <th>273</th>\n",
       "      <th>274</th>\n",
       "      <th>275</th>\n",
       "      <th>276</th>\n",
       "      <th>277</th>\n",
       "      <th>278</th>\n",
       "      <th>279</th>\n",
       "      <th>280</th>\n",
       "    </tr>\n",
       "  </thead>\n",
       "  <tbody>\n",
       "    <tr>\n",
       "      <td>0</td>\n",
       "      <td>40.30467</td>\n",
       "      <td>53.845657</td>\n",
       "      <td>0.0</td>\n",
       "      <td>401.0</td>\n",
       "      <td>15.0</td>\n",
       "      <td>15.52416</td>\n",
       "      <td>32.44188</td>\n",
       "      <td>0.0</td>\n",
       "      <td>377.0</td>\n",
       "      <td>3.0</td>\n",
       "      <td>...</td>\n",
       "      <td>0.0</td>\n",
       "      <td>1.0</td>\n",
       "      <td>0.0</td>\n",
       "      <td>0.0</td>\n",
       "      <td>0.0</td>\n",
       "      <td>0.0</td>\n",
       "      <td>0.0</td>\n",
       "      <td>0.0</td>\n",
       "      <td>0.0</td>\n",
       "      <td>1.0</td>\n",
       "    </tr>\n",
       "    <tr>\n",
       "      <td>1</td>\n",
       "      <td>40.30467</td>\n",
       "      <td>53.845657</td>\n",
       "      <td>0.0</td>\n",
       "      <td>401.0</td>\n",
       "      <td>15.0</td>\n",
       "      <td>15.52416</td>\n",
       "      <td>32.44188</td>\n",
       "      <td>0.0</td>\n",
       "      <td>377.0</td>\n",
       "      <td>3.0</td>\n",
       "      <td>...</td>\n",
       "      <td>1.0</td>\n",
       "      <td>0.0</td>\n",
       "      <td>0.0</td>\n",
       "      <td>0.0</td>\n",
       "      <td>0.0</td>\n",
       "      <td>0.0</td>\n",
       "      <td>0.0</td>\n",
       "      <td>0.0</td>\n",
       "      <td>0.0</td>\n",
       "      <td>0.0</td>\n",
       "    </tr>\n",
       "    <tr>\n",
       "      <td>2</td>\n",
       "      <td>40.30467</td>\n",
       "      <td>53.845657</td>\n",
       "      <td>0.0</td>\n",
       "      <td>401.0</td>\n",
       "      <td>15.0</td>\n",
       "      <td>15.52416</td>\n",
       "      <td>32.44188</td>\n",
       "      <td>0.0</td>\n",
       "      <td>377.0</td>\n",
       "      <td>3.0</td>\n",
       "      <td>...</td>\n",
       "      <td>1.0</td>\n",
       "      <td>0.0</td>\n",
       "      <td>0.0</td>\n",
       "      <td>0.0</td>\n",
       "      <td>0.0</td>\n",
       "      <td>0.0</td>\n",
       "      <td>0.0</td>\n",
       "      <td>0.0</td>\n",
       "      <td>0.0</td>\n",
       "      <td>0.0</td>\n",
       "    </tr>\n",
       "    <tr>\n",
       "      <td>3</td>\n",
       "      <td>40.30467</td>\n",
       "      <td>53.845657</td>\n",
       "      <td>0.0</td>\n",
       "      <td>401.0</td>\n",
       "      <td>15.0</td>\n",
       "      <td>15.52416</td>\n",
       "      <td>32.44188</td>\n",
       "      <td>0.0</td>\n",
       "      <td>377.0</td>\n",
       "      <td>3.0</td>\n",
       "      <td>...</td>\n",
       "      <td>0.0</td>\n",
       "      <td>1.0</td>\n",
       "      <td>0.0</td>\n",
       "      <td>0.0</td>\n",
       "      <td>0.0</td>\n",
       "      <td>0.0</td>\n",
       "      <td>0.0</td>\n",
       "      <td>0.0</td>\n",
       "      <td>0.0</td>\n",
       "      <td>1.0</td>\n",
       "    </tr>\n",
       "    <tr>\n",
       "      <td>4</td>\n",
       "      <td>40.30467</td>\n",
       "      <td>53.845657</td>\n",
       "      <td>0.0</td>\n",
       "      <td>401.0</td>\n",
       "      <td>15.0</td>\n",
       "      <td>15.52416</td>\n",
       "      <td>32.44188</td>\n",
       "      <td>0.0</td>\n",
       "      <td>377.0</td>\n",
       "      <td>3.0</td>\n",
       "      <td>...</td>\n",
       "      <td>0.0</td>\n",
       "      <td>1.0</td>\n",
       "      <td>0.0</td>\n",
       "      <td>0.0</td>\n",
       "      <td>0.0</td>\n",
       "      <td>0.0</td>\n",
       "      <td>0.0</td>\n",
       "      <td>0.0</td>\n",
       "      <td>0.0</td>\n",
       "      <td>27.0</td>\n",
       "    </tr>\n",
       "  </tbody>\n",
       "</table>\n",
       "<p>5 rows × 281 columns</p>\n",
       "</div>"
      ],
      "text/plain": [
       "        0          1    2      3     4         5         6    7      8    9    \\\n",
       "0  40.30467  53.845657  0.0  401.0  15.0  15.52416  32.44188  0.0  377.0  3.0   \n",
       "1  40.30467  53.845657  0.0  401.0  15.0  15.52416  32.44188  0.0  377.0  3.0   \n",
       "2  40.30467  53.845657  0.0  401.0  15.0  15.52416  32.44188  0.0  377.0  3.0   \n",
       "3  40.30467  53.845657  0.0  401.0  15.0  15.52416  32.44188  0.0  377.0  3.0   \n",
       "4  40.30467  53.845657  0.0  401.0  15.0  15.52416  32.44188  0.0  377.0  3.0   \n",
       "\n",
       "   ...  271  272  273  274  275  276  277  278  279   280  \n",
       "0  ...  0.0  1.0  0.0  0.0  0.0  0.0  0.0  0.0  0.0   1.0  \n",
       "1  ...  1.0  0.0  0.0  0.0  0.0  0.0  0.0  0.0  0.0   0.0  \n",
       "2  ...  1.0  0.0  0.0  0.0  0.0  0.0  0.0  0.0  0.0   0.0  \n",
       "3  ...  0.0  1.0  0.0  0.0  0.0  0.0  0.0  0.0  0.0   1.0  \n",
       "4  ...  0.0  1.0  0.0  0.0  0.0  0.0  0.0  0.0  0.0  27.0  \n",
       "\n",
       "[5 rows x 281 columns]"
      ]
     },
     "execution_count": 2,
     "metadata": {},
     "output_type": "execute_result"
    }
   ],
   "source": [
    "train = pd.read_csv('blogData_train.csv', header = None)\n",
    "train.head()"
   ]
  },
  {
   "cell_type": "code",
   "execution_count": 3,
   "metadata": {},
   "outputs": [
    {
     "data": {
      "text/html": [
       "<div>\n",
       "<style scoped>\n",
       "    .dataframe tbody tr th:only-of-type {\n",
       "        vertical-align: middle;\n",
       "    }\n",
       "\n",
       "    .dataframe tbody tr th {\n",
       "        vertical-align: top;\n",
       "    }\n",
       "\n",
       "    .dataframe thead th {\n",
       "        text-align: right;\n",
       "    }\n",
       "</style>\n",
       "<table border=\"1\" class=\"dataframe\">\n",
       "  <thead>\n",
       "    <tr style=\"text-align: right;\">\n",
       "      <th></th>\n",
       "      <th>0</th>\n",
       "      <th>1</th>\n",
       "      <th>2</th>\n",
       "      <th>3</th>\n",
       "      <th>4</th>\n",
       "      <th>5</th>\n",
       "      <th>6</th>\n",
       "      <th>7</th>\n",
       "      <th>8</th>\n",
       "      <th>9</th>\n",
       "      <th>...</th>\n",
       "      <th>271</th>\n",
       "      <th>272</th>\n",
       "      <th>273</th>\n",
       "      <th>274</th>\n",
       "      <th>275</th>\n",
       "      <th>276</th>\n",
       "      <th>277</th>\n",
       "      <th>278</th>\n",
       "      <th>279</th>\n",
       "      <th>280</th>\n",
       "    </tr>\n",
       "  </thead>\n",
       "  <tbody>\n",
       "    <tr>\n",
       "      <td>0</td>\n",
       "      <td>6.004717</td>\n",
       "      <td>37.532440</td>\n",
       "      <td>0.0</td>\n",
       "      <td>347.0</td>\n",
       "      <td>0.0</td>\n",
       "      <td>2.603774</td>\n",
       "      <td>19.723646</td>\n",
       "      <td>0.0</td>\n",
       "      <td>223.0</td>\n",
       "      <td>0.0</td>\n",
       "      <td>...</td>\n",
       "      <td>0.0</td>\n",
       "      <td>1.0</td>\n",
       "      <td>0.0</td>\n",
       "      <td>0.0</td>\n",
       "      <td>0.0</td>\n",
       "      <td>2.0</td>\n",
       "      <td>0.0</td>\n",
       "      <td>0.0</td>\n",
       "      <td>0.0</td>\n",
       "      <td>0.0</td>\n",
       "    </tr>\n",
       "    <tr>\n",
       "      <td>1</td>\n",
       "      <td>7.777778</td>\n",
       "      <td>6.160407</td>\n",
       "      <td>1.0</td>\n",
       "      <td>18.0</td>\n",
       "      <td>6.0</td>\n",
       "      <td>3.333333</td>\n",
       "      <td>3.681787</td>\n",
       "      <td>0.0</td>\n",
       "      <td>13.0</td>\n",
       "      <td>2.0</td>\n",
       "      <td>...</td>\n",
       "      <td>0.0</td>\n",
       "      <td>0.0</td>\n",
       "      <td>1.0</td>\n",
       "      <td>0.0</td>\n",
       "      <td>0.0</td>\n",
       "      <td>0.0</td>\n",
       "      <td>0.0</td>\n",
       "      <td>0.0</td>\n",
       "      <td>0.0</td>\n",
       "      <td>2.0</td>\n",
       "    </tr>\n",
       "    <tr>\n",
       "      <td>2</td>\n",
       "      <td>0.000000</td>\n",
       "      <td>0.000000</td>\n",
       "      <td>0.0</td>\n",
       "      <td>0.0</td>\n",
       "      <td>0.0</td>\n",
       "      <td>0.000000</td>\n",
       "      <td>0.000000</td>\n",
       "      <td>0.0</td>\n",
       "      <td>0.0</td>\n",
       "      <td>0.0</td>\n",
       "      <td>...</td>\n",
       "      <td>1.0</td>\n",
       "      <td>0.0</td>\n",
       "      <td>0.0</td>\n",
       "      <td>0.0</td>\n",
       "      <td>0.0</td>\n",
       "      <td>0.0</td>\n",
       "      <td>0.0</td>\n",
       "      <td>0.0</td>\n",
       "      <td>0.0</td>\n",
       "      <td>0.0</td>\n",
       "    </tr>\n",
       "    <tr>\n",
       "      <td>3</td>\n",
       "      <td>34.589355</td>\n",
       "      <td>98.559500</td>\n",
       "      <td>0.0</td>\n",
       "      <td>713.0</td>\n",
       "      <td>2.0</td>\n",
       "      <td>14.205323</td>\n",
       "      <td>55.165180</td>\n",
       "      <td>0.0</td>\n",
       "      <td>596.0</td>\n",
       "      <td>1.0</td>\n",
       "      <td>...</td>\n",
       "      <td>1.0</td>\n",
       "      <td>0.0</td>\n",
       "      <td>0.0</td>\n",
       "      <td>0.0</td>\n",
       "      <td>0.0</td>\n",
       "      <td>0.0</td>\n",
       "      <td>0.0</td>\n",
       "      <td>0.0</td>\n",
       "      <td>0.0</td>\n",
       "      <td>0.0</td>\n",
       "    </tr>\n",
       "    <tr>\n",
       "      <td>4</td>\n",
       "      <td>0.000000</td>\n",
       "      <td>0.000000</td>\n",
       "      <td>0.0</td>\n",
       "      <td>0.0</td>\n",
       "      <td>0.0</td>\n",
       "      <td>0.000000</td>\n",
       "      <td>0.000000</td>\n",
       "      <td>0.0</td>\n",
       "      <td>0.0</td>\n",
       "      <td>0.0</td>\n",
       "      <td>...</td>\n",
       "      <td>0.0</td>\n",
       "      <td>0.0</td>\n",
       "      <td>1.0</td>\n",
       "      <td>0.0</td>\n",
       "      <td>0.0</td>\n",
       "      <td>0.0</td>\n",
       "      <td>0.0</td>\n",
       "      <td>0.0</td>\n",
       "      <td>0.0</td>\n",
       "      <td>0.0</td>\n",
       "    </tr>\n",
       "  </tbody>\n",
       "</table>\n",
       "<p>5 rows × 281 columns</p>\n",
       "</div>"
      ],
      "text/plain": [
       "         0          1    2      3    4          5          6    7      8    \\\n",
       "0   6.004717  37.532440  0.0  347.0  0.0   2.603774  19.723646  0.0  223.0   \n",
       "1   7.777778   6.160407  1.0   18.0  6.0   3.333333   3.681787  0.0   13.0   \n",
       "2   0.000000   0.000000  0.0    0.0  0.0   0.000000   0.000000  0.0    0.0   \n",
       "3  34.589355  98.559500  0.0  713.0  2.0  14.205323  55.165180  0.0  596.0   \n",
       "4   0.000000   0.000000  0.0    0.0  0.0   0.000000   0.000000  0.0    0.0   \n",
       "\n",
       "   9    ...  271  272  273  274  275  276  277  278  279  280  \n",
       "0  0.0  ...  0.0  1.0  0.0  0.0  0.0  2.0  0.0  0.0  0.0  0.0  \n",
       "1  2.0  ...  0.0  0.0  1.0  0.0  0.0  0.0  0.0  0.0  0.0  2.0  \n",
       "2  0.0  ...  1.0  0.0  0.0  0.0  0.0  0.0  0.0  0.0  0.0  0.0  \n",
       "3  1.0  ...  1.0  0.0  0.0  0.0  0.0  0.0  0.0  0.0  0.0  0.0  \n",
       "4  0.0  ...  0.0  0.0  1.0  0.0  0.0  0.0  0.0  0.0  0.0  0.0  \n",
       "\n",
       "[5 rows x 281 columns]"
      ]
     },
     "execution_count": 3,
     "metadata": {},
     "output_type": "execute_result"
    }
   ],
   "source": [
    "\n",
    "#Using the file blogData_test-2012.03.31.01_00.csv for testing the data per instructions.\n",
    "test = pd.read_csv('blogData_test-2012.03.31.01_00.csv' , header = None)\n",
    "test.head()"
   ]
  },
  {
   "cell_type": "code",
   "execution_count": 4,
   "metadata": {},
   "outputs": [],
   "source": [
    "#Storing the number of isntances and number of columns:\n",
    "\n",
    "n_samples, n_features = train.shape"
   ]
  },
  {
   "cell_type": "code",
   "execution_count": 5,
   "metadata": {},
   "outputs": [
    {
     "name": "stdout",
     "output_type": "stream",
     "text": [
      "Number of features: 281\n",
      "Number of samples: 52397\n"
     ]
    }
   ],
   "source": [
    "print(\"Number of features:\", n_features)\n",
    "print(\"Number of samples:\", n_samples)"
   ]
  },
  {
   "cell_type": "markdown",
   "metadata": {},
   "source": [
    "### Comparing Different regression methods"
   ]
  },
  {
   "cell_type": "code",
   "execution_count": 6,
   "metadata": {},
   "outputs": [],
   "source": [
    "\n",
    "#!pip install matplotlib\n",
    "import numpy as np\n",
    "from sklearn.linear_model import LinearRegression, Ridge, Lasso, LogisticRegression, RidgeCV, LassoCV\n",
    "from sklearn.metrics import accuracy_score, log_loss\n",
    "from sklearn.model_selection import cross_val_score,GridSearchCV"
   ]
  },
  {
   "cell_type": "markdown",
   "metadata": {},
   "source": [
    "#### Feature Selection:"
   ]
  },
  {
   "cell_type": "code",
   "execution_count": 7,
   "metadata": {},
   "outputs": [],
   "source": [
    "#Assignning columns to target variable and independent variable accordingly.\n",
    "xvalue = train.iloc[:,0:280]\n",
    "yvalue = train .iloc[:,-1]\n",
    "\n",
    "#Calculating the predictions on test data\n",
    "xtest = test.iloc[:,0:280]\n",
    "ytest = test.iloc[:,-1]"
   ]
  },
  {
   "cell_type": "code",
   "execution_count": 8,
   "metadata": {},
   "outputs": [],
   "source": [
    "#Defining a function for calcilating root mean square of the regression:\n",
    "rmse = lambda y, yhat: np.sqrt(np.mean((y-yhat)**2))\n",
    "\n"
   ]
  },
  {
   "cell_type": "markdown",
   "metadata": {},
   "source": [
    "### Lease Square Regression"
   ]
  },
  {
   "cell_type": "code",
   "execution_count": 9,
   "metadata": {},
   "outputs": [],
   "source": [
    "#Least Square regression is standard linear optimization problem.\n",
    "\n",
    "LeastSqr = LinearRegression().fit(xvalue,yvalue)"
   ]
  },
  {
   "cell_type": "code",
   "execution_count": 10,
   "metadata": {},
   "outputs": [
    {
     "name": "stdout",
     "output_type": "stream",
     "text": [
      "The r-squared value of ridge on train data is :  0.3647602443198035\n",
      "RMSE of training data : 30.05257270463932\n"
     ]
    }
   ],
   "source": [
    "# Calculating the r-squared value on train data: \n",
    "least_r2 = LeastSqr.score(xvalue,yvalue)\n",
    "\n",
    "#Calculating RMSE on train data:\n",
    "rmse_linear_train = rmse(yvalue, LeastSqr.predict(xvalue))\n",
    "\n",
    "print(\"The r-squared value of ridge on train data is : \", least_r2)\n",
    "print(\"RMSE of training data :\", rmse_linear_train )"
   ]
  },
  {
   "cell_type": "code",
   "execution_count": 11,
   "metadata": {},
   "outputs": [
    {
     "name": "stdout",
     "output_type": "stream",
     "text": [
      "[0.99565714 0.99999812 0.99999977 0.99910529 1.         1.\n",
      " 0.99802682 0.99992708 0.99484567 1.        ]\n"
     ]
    }
   ],
   "source": [
    "print(cross_val_score(LeastSqr, xvalue, LeastSqr.predict(xvalue), cv = 10))"
   ]
  },
  {
   "cell_type": "code",
   "execution_count": 12,
   "metadata": {},
   "outputs": [
    {
     "name": "stdout",
     "output_type": "stream",
     "text": [
      "RMSE of the Linear model on test data : 40.40124825651507\n"
     ]
    }
   ],
   "source": [
    "#Calculating RMSE on train data:\n",
    "\n",
    "rmse_linear_test = rmse(ytest, LeastSqr.predict(xtest))\n",
    "\n",
    "print(\"RMSE of the Linear model on test data :\", rmse_linear_test )"
   ]
  },
  {
   "cell_type": "markdown",
   "metadata": {},
   "source": [
    "#### l2 regularization methods : Ridge Regression"
   ]
  },
  {
   "cell_type": "code",
   "execution_count": 13,
   "metadata": {},
   "outputs": [],
   "source": [
    "#Using the cross validated ridge to perform the Ridge regression\n",
    "cif = Ridge()"
   ]
  },
  {
   "cell_type": "code",
   "execution_count": 14,
   "metadata": {},
   "outputs": [
    {
     "name": "stderr",
     "output_type": "stream",
     "text": [
      "c:\\python37\\lib\\site-packages\\sklearn\\model_selection\\_split.py:1978: FutureWarning: The default value of cv will change from 3 to 5 in version 0.22. Specify it explicitly to silence this warning.\n",
      "  warnings.warn(CV_WARNING, FutureWarning)\n"
     ]
    },
    {
     "name": "stdout",
     "output_type": "stream",
     "text": [
      "GridSearchCV(cv='warn', error_score='raise-deprecating',\n",
      "             estimator=Ridge(alpha=1.0, copy_X=True, fit_intercept=True,\n",
      "                             max_iter=None, normalize=False, random_state=None,\n",
      "                             solver='auto', tol=0.001),\n",
      "             iid='warn', n_jobs=None,\n",
      "             param_grid={'alpha': array([ 1.        ,  2.33333333,  3.66666667,  5.        ,  6.33333333,\n",
      "        7.66666667,  9.        , 10.33333333, 11.66666667, 13.        ,\n",
      "       14.33333333, 15.66666667, 17.        , 18.33333333, 19.66666667,\n",
      "       21.        , 22.33333333, 23.66666667, 25.        ])},\n",
      "             pre_dispatch='2*n_jobs', refit=True, return_train_score=False,\n",
      "             scoring=None, verbose=0)\n",
      "\n",
      " Best score achieved by grid search on ridge regressor: \n",
      "\n",
      "0.1507659846579393\n"
     ]
    }
   ],
   "source": [
    "#Preparing the values of alphas to train the model\n",
    "alpha_values = np.linspace(1,25,19)\n",
    "\n",
    "#Applying the Grid search technique to cross valide and parameter tuning\n",
    "\n",
    "\n",
    "ridge_grid = GridSearchCV(estimator=cif, param_grid=dict(alpha=alpha_values))\n",
    "\n",
    "ridge_grid.fit(xvalue,yvalue)\n",
    "print(ridge_grid)\n",
    "\n",
    "\n",
    "# Display the results of the grid search\n",
    "\n",
    "print(\"\\n Best score achieved by grid search on ridge regressor: \\n\")\n",
    "print(ridge_grid.best_score_)"
   ]
  },
  {
   "cell_type": "code",
   "execution_count": 15,
   "metadata": {},
   "outputs": [
    {
     "name": "stdout",
     "output_type": "stream",
     "text": [
      "The r-squared value of ridge on train data is :  0.36431825767813\n",
      "The best value of alpha is :  25.0\n",
      "RMSE of training data : 30.063025864952174\n"
     ]
    }
   ],
   "source": [
    "# Calculating the r-squared value on train data: \n",
    "r2 = ridge_grid.score(xvalue,yvalue)\n",
    "\n",
    "# The best alpha value that contributed for ridge is:\n",
    "a = ridge_grid.best_estimator_.alpha\n",
    "\n",
    "#Calculating RMSE on train data:\n",
    "rmse_train = rmse(yvalue, ridge_grid.predict(xvalue))\n",
    "\n",
    "print(\"The r-squared value of ridge on train data is : \", r2)\n",
    "print(\"The best value of alpha is : \", a)\n",
    "print(\"RMSE of training data :\", rmse_train )"
   ]
  },
  {
   "cell_type": "code",
   "execution_count": 16,
   "metadata": {},
   "outputs": [
    {
     "name": "stdout",
     "output_type": "stream",
     "text": [
      "RMSE of the Ridge model on test data : 40.45153608446807\n"
     ]
    }
   ],
   "source": [
    "#Calculating RMSE on train data:\n",
    "\n",
    "rmse_test = rmse(ytest, ridge_grid.predict(xtest))\n",
    "\n",
    "print(\"RMSE of the Ridge model on test data :\", rmse_test )"
   ]
  },
  {
   "cell_type": "markdown",
   "metadata": {},
   "source": [
    "### l1 regularization : Lasso:\n",
    "\n",
    "The optimization objective for Lasso is:\n",
    "\n",
    "\n",
    "(1 / (2 * n_samples)) * ||y - Xw||^2_2 + alpha * ||w||_1"
   ]
  },
  {
   "cell_type": "code",
   "execution_count": 17,
   "metadata": {},
   "outputs": [
    {
     "name": "stderr",
     "output_type": "stream",
     "text": [
      "c:\\python37\\lib\\site-packages\\sklearn\\linear_model\\coordinate_descent.py:471: ConvergenceWarning: Objective did not converge. You might want to increase the number of iterations. Duality gap: 7776656.656456284, tolerance: 6787.337686613993\n",
      "  tol, rng, random, positive)\n",
      "c:\\python37\\lib\\site-packages\\sklearn\\linear_model\\coordinate_descent.py:471: ConvergenceWarning: Objective did not converge. You might want to increase the number of iterations. Duality gap: 19914356.726205137, tolerance: 6787.337686613993\n",
      "  tol, rng, random, positive)\n",
      "c:\\python37\\lib\\site-packages\\sklearn\\linear_model\\coordinate_descent.py:471: ConvergenceWarning: Objective did not converge. You might want to increase the number of iterations. Duality gap: 20895218.459121548, tolerance: 6787.337686613993\n",
      "  tol, rng, random, positive)\n",
      "c:\\python37\\lib\\site-packages\\sklearn\\linear_model\\coordinate_descent.py:471: ConvergenceWarning: Objective did not converge. You might want to increase the number of iterations. Duality gap: 20917203.2116491, tolerance: 6787.337686613993\n",
      "  tol, rng, random, positive)\n",
      "c:\\python37\\lib\\site-packages\\sklearn\\linear_model\\coordinate_descent.py:471: ConvergenceWarning: Objective did not converge. You might want to increase the number of iterations. Duality gap: 20916837.417912897, tolerance: 6787.337686613993\n",
      "  tol, rng, random, positive)\n",
      "c:\\python37\\lib\\site-packages\\sklearn\\linear_model\\coordinate_descent.py:471: ConvergenceWarning: Objective did not converge. You might want to increase the number of iterations. Duality gap: 20916074.069565702, tolerance: 6787.337686613993\n",
      "  tol, rng, random, positive)\n",
      "c:\\python37\\lib\\site-packages\\sklearn\\linear_model\\coordinate_descent.py:471: ConvergenceWarning: Objective did not converge. You might want to increase the number of iterations. Duality gap: 20915525.054877367, tolerance: 6787.337686613993\n",
      "  tol, rng, random, positive)\n",
      "c:\\python37\\lib\\site-packages\\sklearn\\linear_model\\coordinate_descent.py:471: ConvergenceWarning: Objective did not converge. You might want to increase the number of iterations. Duality gap: 20915144.678625487, tolerance: 6787.337686613993\n",
      "  tol, rng, random, positive)\n",
      "c:\\python37\\lib\\site-packages\\sklearn\\linear_model\\coordinate_descent.py:471: ConvergenceWarning: Objective did not converge. You might want to increase the number of iterations. Duality gap: 20914875.011162248, tolerance: 6787.337686613993\n",
      "  tol, rng, random, positive)\n",
      "c:\\python37\\lib\\site-packages\\sklearn\\linear_model\\coordinate_descent.py:471: ConvergenceWarning: Objective did not converge. You might want to increase the number of iterations. Duality gap: 761959.8442076929, tolerance: 1948.8511828661346\n",
      "  tol, rng, random, positive)\n",
      "c:\\python37\\lib\\site-packages\\sklearn\\linear_model\\coordinate_descent.py:471: ConvergenceWarning: Objective did not converge. You might want to increase the number of iterations. Duality gap: 7240897.264827843, tolerance: 1948.8511828661346\n",
      "  tol, rng, random, positive)\n",
      "c:\\python37\\lib\\site-packages\\sklearn\\linear_model\\coordinate_descent.py:471: ConvergenceWarning: Objective did not converge. You might want to increase the number of iterations. Duality gap: 7667894.270963235, tolerance: 1948.8511828661346\n",
      "  tol, rng, random, positive)\n",
      "c:\\python37\\lib\\site-packages\\sklearn\\linear_model\\coordinate_descent.py:471: ConvergenceWarning: Objective did not converge. You might want to increase the number of iterations. Duality gap: 7677404.450925648, tolerance: 1948.8511828661346\n",
      "  tol, rng, random, positive)\n",
      "c:\\python37\\lib\\site-packages\\sklearn\\linear_model\\coordinate_descent.py:471: ConvergenceWarning: Objective did not converge. You might want to increase the number of iterations. Duality gap: 7676765.492508206, tolerance: 1948.8511828661346\n",
      "  tol, rng, random, positive)\n",
      "c:\\python37\\lib\\site-packages\\sklearn\\linear_model\\coordinate_descent.py:471: ConvergenceWarning: Objective did not converge. You might want to increase the number of iterations. Duality gap: 7676397.053138313, tolerance: 1948.8511828661346\n",
      "  tol, rng, random, positive)\n",
      "c:\\python37\\lib\\site-packages\\sklearn\\linear_model\\coordinate_descent.py:471: ConvergenceWarning: Objective did not converge. You might want to increase the number of iterations. Duality gap: 7676120.253315883, tolerance: 1948.8511828661346\n",
      "  tol, rng, random, positive)\n",
      "c:\\python37\\lib\\site-packages\\sklearn\\linear_model\\coordinate_descent.py:471: ConvergenceWarning: Objective did not converge. You might want to increase the number of iterations. Duality gap: 7675883.196115128, tolerance: 1948.8511828661346\n",
      "  tol, rng, random, positive)\n",
      "c:\\python37\\lib\\site-packages\\sklearn\\linear_model\\coordinate_descent.py:471: ConvergenceWarning: Objective did not converge. You might want to increase the number of iterations. Duality gap: 7675679.531844758, tolerance: 1948.8511828661346\n",
      "  tol, rng, random, positive)\n",
      "c:\\python37\\lib\\site-packages\\sklearn\\linear_model\\coordinate_descent.py:471: ConvergenceWarning: Objective did not converge. You might want to increase the number of iterations. Duality gap: 12758585.698508414, tolerance: 7029.050096896281\n",
      "  tol, rng, random, positive)\n",
      "c:\\python37\\lib\\site-packages\\sklearn\\linear_model\\coordinate_descent.py:471: ConvergenceWarning: Objective did not converge. You might want to increase the number of iterations. Duality gap: 20859543.839511596, tolerance: 7029.050096896281\n",
      "  tol, rng, random, positive)\n",
      "c:\\python37\\lib\\site-packages\\sklearn\\linear_model\\coordinate_descent.py:471: ConvergenceWarning: Objective did not converge. You might want to increase the number of iterations. Duality gap: 21775260.176102065, tolerance: 7029.050096896281\n",
      "  tol, rng, random, positive)\n",
      "c:\\python37\\lib\\site-packages\\sklearn\\linear_model\\coordinate_descent.py:471: ConvergenceWarning: Objective did not converge. You might want to increase the number of iterations. Duality gap: 21812977.579895534, tolerance: 7029.050096896281\n",
      "  tol, rng, random, positive)\n",
      "c:\\python37\\lib\\site-packages\\sklearn\\linear_model\\coordinate_descent.py:471: ConvergenceWarning: Objective did not converge. You might want to increase the number of iterations. Duality gap: 21814171.94125537, tolerance: 7029.050096896281\n",
      "  tol, rng, random, positive)\n",
      "c:\\python37\\lib\\site-packages\\sklearn\\linear_model\\coordinate_descent.py:471: ConvergenceWarning: Objective did not converge. You might want to increase the number of iterations. Duality gap: 21814087.020764306, tolerance: 7029.050096896281\n",
      "  tol, rng, random, positive)\n",
      "c:\\python37\\lib\\site-packages\\sklearn\\linear_model\\coordinate_descent.py:471: ConvergenceWarning: Objective did not converge. You might want to increase the number of iterations. Duality gap: 21813885.776333433, tolerance: 7029.050096896281\n",
      "  tol, rng, random, positive)\n",
      "c:\\python37\\lib\\site-packages\\sklearn\\linear_model\\coordinate_descent.py:471: ConvergenceWarning: Objective did not converge. You might want to increase the number of iterations. Duality gap: 21813717.279043183, tolerance: 7029.050096896281\n",
      "  tol, rng, random, positive)\n",
      "c:\\python37\\lib\\site-packages\\sklearn\\linear_model\\coordinate_descent.py:471: ConvergenceWarning: Objective did not converge. You might want to increase the number of iterations. Duality gap: 21813580.407269556, tolerance: 7029.050096896281\n",
      "  tol, rng, random, positive)\n",
      "c:\\python37\\lib\\site-packages\\sklearn\\linear_model\\coordinate_descent.py:471: ConvergenceWarning: Objective did not converge. You might want to increase the number of iterations. Duality gap: 9418885.751290955, tolerance: 6934.387936037021\n",
      "  tol, rng, random, positive)\n",
      "c:\\python37\\lib\\site-packages\\sklearn\\linear_model\\coordinate_descent.py:471: ConvergenceWarning: Objective did not converge. You might want to increase the number of iterations. Duality gap: 20411317.504842896, tolerance: 6934.387936037021\n",
      "  tol, rng, random, positive)\n",
      "c:\\python37\\lib\\site-packages\\sklearn\\linear_model\\coordinate_descent.py:471: ConvergenceWarning: Objective did not converge. You might want to increase the number of iterations. Duality gap: 21500306.982262813, tolerance: 6934.387936037021\n",
      "  tol, rng, random, positive)\n",
      "c:\\python37\\lib\\site-packages\\sklearn\\linear_model\\coordinate_descent.py:471: ConvergenceWarning: Objective did not converge. You might want to increase the number of iterations. Duality gap: 21511236.58094505, tolerance: 6934.387936037021\n",
      "  tol, rng, random, positive)\n",
      "c:\\python37\\lib\\site-packages\\sklearn\\linear_model\\coordinate_descent.py:471: ConvergenceWarning: Objective did not converge. You might want to increase the number of iterations. Duality gap: 21510416.284026872, tolerance: 6934.387936037021\n",
      "  tol, rng, random, positive)\n"
     ]
    },
    {
     "name": "stderr",
     "output_type": "stream",
     "text": [
      "c:\\python37\\lib\\site-packages\\sklearn\\linear_model\\coordinate_descent.py:471: ConvergenceWarning: Objective did not converge. You might want to increase the number of iterations. Duality gap: 21510089.832896437, tolerance: 6934.387936037021\n",
      "  tol, rng, random, positive)\n",
      "c:\\python37\\lib\\site-packages\\sklearn\\linear_model\\coordinate_descent.py:471: ConvergenceWarning: Objective did not converge. You might want to increase the number of iterations. Duality gap: 21509877.444520507, tolerance: 6934.387936037021\n",
      "  tol, rng, random, positive)\n",
      "c:\\python37\\lib\\site-packages\\sklearn\\linear_model\\coordinate_descent.py:471: ConvergenceWarning: Objective did not converge. You might want to increase the number of iterations. Duality gap: 21509731.336333387, tolerance: 6934.387936037021\n",
      "  tol, rng, random, positive)\n",
      "c:\\python37\\lib\\site-packages\\sklearn\\linear_model\\coordinate_descent.py:471: ConvergenceWarning: Objective did not converge. You might want to increase the number of iterations. Duality gap: 21509618.455446158, tolerance: 6934.387936037021\n",
      "  tol, rng, random, positive)\n",
      "c:\\python37\\lib\\site-packages\\sklearn\\linear_model\\coordinate_descent.py:471: ConvergenceWarning: Objective did not converge. You might want to increase the number of iterations. Duality gap: 3285553.165871978, tolerance: 7059.364048618755\n",
      "  tol, rng, random, positive)\n",
      "c:\\python37\\lib\\site-packages\\sklearn\\linear_model\\coordinate_descent.py:471: ConvergenceWarning: Objective did not converge. You might want to increase the number of iterations. Duality gap: 21009740.478729866, tolerance: 7059.364048618755\n",
      "  tol, rng, random, positive)\n",
      "c:\\python37\\lib\\site-packages\\sklearn\\linear_model\\coordinate_descent.py:471: ConvergenceWarning: Objective did not converge. You might want to increase the number of iterations. Duality gap: 22065104.700418018, tolerance: 7059.364048618755\n",
      "  tol, rng, random, positive)\n",
      "c:\\python37\\lib\\site-packages\\sklearn\\linear_model\\coordinate_descent.py:471: ConvergenceWarning: Objective did not converge. You might want to increase the number of iterations. Duality gap: 22088706.073006578, tolerance: 7059.364048618755\n",
      "  tol, rng, random, positive)\n",
      "c:\\python37\\lib\\site-packages\\sklearn\\linear_model\\coordinate_descent.py:471: ConvergenceWarning: Objective did not converge. You might want to increase the number of iterations. Duality gap: 22087785.2054107, tolerance: 7059.364048618755\n",
      "  tol, rng, random, positive)\n",
      "c:\\python37\\lib\\site-packages\\sklearn\\linear_model\\coordinate_descent.py:471: ConvergenceWarning: Objective did not converge. You might want to increase the number of iterations. Duality gap: 22087133.21958396, tolerance: 7059.364048618755\n",
      "  tol, rng, random, positive)\n",
      "c:\\python37\\lib\\site-packages\\sklearn\\linear_model\\coordinate_descent.py:471: ConvergenceWarning: Objective did not converge. You might want to increase the number of iterations. Duality gap: 22086566.175365422, tolerance: 7059.364048618755\n",
      "  tol, rng, random, positive)\n",
      "c:\\python37\\lib\\site-packages\\sklearn\\linear_model\\coordinate_descent.py:471: ConvergenceWarning: Objective did not converge. You might want to increase the number of iterations. Duality gap: 22086058.232389186, tolerance: 7059.364048618755\n",
      "  tol, rng, random, positive)\n",
      "c:\\python37\\lib\\site-packages\\sklearn\\linear_model\\coordinate_descent.py:471: ConvergenceWarning: Objective did not converge. You might want to increase the number of iterations. Duality gap: 22085607.246628076, tolerance: 7059.364048618755\n",
      "  tol, rng, random, positive)\n",
      "c:\\python37\\lib\\site-packages\\sklearn\\linear_model\\coordinate_descent.py:475: ConvergenceWarning: Objective did not converge. You might want to increase the number of iterations. Duality gap: 22582240.27720599, tolerance: 7449.584746019797\n",
      "  positive)\n"
     ]
    }
   ],
   "source": [
    "#Using the LassoCV method for training the model which has in-build cross validation. \n",
    "#The cross-validation used in this regressor is standard Leave-One-Out cross-validation.\n",
    "#Preparing the values of alphas to train the model\n",
    "\n",
    "\n",
    "alpha_values = 10**np.linspace(-10,5,13)\n",
    "lasso = LassoCV(alphas = alpha_values, cv = 5, random_state = 0).fit(xvalue,yvalue)"
   ]
  },
  {
   "cell_type": "code",
   "execution_count": 18,
   "metadata": {},
   "outputs": [
    {
     "name": "stdout",
     "output_type": "stream",
     "text": [
      "The r-squared value of lasso on train data is :  0.3601938614642828\n",
      "The best value of alpha is :  0.05623413251903491\n",
      "RMSE of training data : 30.160394840917434\n"
     ]
    }
   ],
   "source": [
    "# Calculating the r-squared value on train data: \n",
    "lasso_r2 = lasso.score(xvalue,yvalue)\n",
    "\n",
    "# The best alpha value that contributed for lasso is:\n",
    "a = lasso.alpha_\n",
    "\n",
    "#Calculating RMSE on train data:\n",
    "rmse_lasso_train = rmse(yvalue, lasso.predict(xvalue))\n",
    "\n",
    "print(\"The r-squared value of lasso on train data is : \", lasso_r2)\n",
    "print(\"The best value of alpha is : \", a)\n",
    "print(\"RMSE of training data :\", rmse_lasso_train )"
   ]
  },
  {
   "cell_type": "code",
   "execution_count": 19,
   "metadata": {},
   "outputs": [
    {
     "name": "stdout",
     "output_type": "stream",
     "text": [
      "RMSE of the Lasso model on test data : 40.53876232888251\n"
     ]
    }
   ],
   "source": [
    "#Calculating RMSE on train data:\n",
    "\n",
    "rmse_lasso_test = rmse(ytest, lasso.predict(xtest))\n",
    "\n",
    "print(\"RMSE of the Lasso model on test data :\", rmse_lasso_test )"
   ]
  },
  {
   "cell_type": "markdown",
   "metadata": {},
   "source": [
    "### Displaying the most important features according to LASSO"
   ]
  },
  {
   "cell_type": "code",
   "execution_count": 20,
   "metadata": {},
   "outputs": [
    {
     "name": "stdout",
     "output_type": "stream",
     "text": [
      " Total number of most important features is:  66 \n",
      "\n",
      "\n",
      " Indexes of most important features is:  (array([  0,   1,   2,   3,   4,   5,   6,   8,  10,  11,  13,  14,  15,\n",
      "        16,  17,  18,  19,  20,  21,  22,  23,  24,  25,  43,  44,  46,\n",
      "        47,  50,  51,  52,  53,  54,  56,  58,  60,  61,  63,  68,  76,\n",
      "        88,  95, 100, 113, 121, 142, 157, 169, 193, 196, 201, 215, 218,\n",
      "       220, 225, 231, 245, 246, 247, 262, 264, 266, 268, 272, 274, 278,\n",
      "       279], dtype=int64),) \n",
      "\n",
      "\n",
      "Feature Index : Value\n",
      "69 :  1.119003259298101\n",
      "21 :  1.0727976288805627\n",
      "77 :  0.9816295216729901\n",
      "269 :  0.8079891537875035\n",
      "226 :  0.7848480169827899\n",
      "114 :  0.6455828532500913\n",
      "158 :  0.6364708992306574\n",
      "263 :  0.5012217798390638\n",
      "6 :  0.48572199993243226\n",
      "143 :  0.3949948127023438\n",
      "16 :  0.3530571835916271\n",
      "221 :  0.3502409619407801\n",
      "64 :  0.3196234720811083\n",
      "96 :  0.29296215231871453\n",
      "246 :  0.27889651225585177\n",
      "25 :  0.25332392211521093\n",
      "15 :  0.24387969488335037\n",
      "89 :  0.20523691315048678\n",
      "52 :  0.2049975461425092\n",
      "101 :  0.2001100700911378\n",
      "170 :  0.19542770879103974\n",
      "216 :  0.17847891460149226\n",
      "2 :  0.16569034426373755\n",
      "57 :  0.16050732401906664\n",
      "61 :  0.15184999717425873\n",
      "197 :  0.13287969300666244\n",
      "20 :  0.13246831174410761\n",
      "11 :  0.12218721791016147\n",
      "273 :  0.1184245563824464\n",
      "219 :  0.09828154750739952\n",
      "45 :  0.09760950532328502\n",
      "248 :  0.09374165275368948\n",
      "265 :  0.08982465973770778\n",
      "232 :  0.08876415525215665\n",
      "59 :  0.07205208701796288\n",
      "17 :  0.07040364630958688\n",
      "194 :  0.06673754867601486\n",
      "267 :  0.06407281778048486\n",
      "22 :  0.06203972377744535\n",
      "202 :  0.057343246485554666\n",
      "122 :  0.056280872874008375\n",
      "47 :  0.05546895017349702\n",
      "12 :  0.04601933824034212\n",
      "44 :  0.04423496756477583\n",
      "51 :  0.04033017992478904\n",
      "275 :  0.038576457478216676\n",
      "3 :  0.033449373793788595\n",
      "48 :  0.03139899049009876\n",
      "54 :  0.03099726642820475\n",
      "247 :  0.030470342003667817\n",
      "26 :  0.029480507965583654\n",
      "7 :  0.029127178711373047\n",
      "14 :  0.023428341366345168\n",
      "53 :  0.022925874253153455\n",
      "23 :  0.020135936766728688\n",
      "5 :  0.01976115936847126\n",
      "55 :  0.015336506717606927\n",
      "19 :  0.010826175242475625\n",
      "1 :  0.00592825822703703\n",
      "280 :  0.004955674215716942\n",
      "9 :  0.004941032888344907\n",
      "4 :  0.0025376239530526855\n",
      "279 :  0.0024562958442873764\n",
      "24 :  0.0013956477750455558\n",
      "62 :  0.00013583363027861004\n",
      "18 :  6.315217229040229e-05\n"
     ]
    }
   ],
   "source": [
    "print(\" Total number of most important features is: \", lasso.coef_.nonzero()[0].size,\"\\n\\n\")\n",
    "\n",
    "print(\" Indexes of most important features is: \", lasso.coef_.nonzero(),\"\\n\\n\")\n",
    "\n",
    "print(\"Feature Index : Value\")\n",
    "abs_feature_value = abs(lasso.coef_)\n",
    "feature_index = list(range(1,len((lasso.coef_)) + 1))\n",
    "for node, value in sorted(dict(zip(feature_index, abs_feature_value)).items(), key= lambda v:v[1], reverse = True):\n",
    "    if(value != 0):\n",
    "        print(\"%s :  %s\" % (node,value))"
   ]
  },
  {
   "cell_type": "code",
   "execution_count": null,
   "metadata": {},
   "outputs": [],
   "source": []
  }
 ],
 "metadata": {
  "kernelspec": {
   "display_name": "Python 3",
   "language": "python",
   "name": "python3"
  },
  "language_info": {
   "codemirror_mode": {
    "name": "ipython",
    "version": 3
   },
   "file_extension": ".py",
   "mimetype": "text/x-python",
   "name": "python",
   "nbconvert_exporter": "python",
   "pygments_lexer": "ipython3",
   "version": "3.7.2"
  }
 },
 "nbformat": 4,
 "nbformat_minor": 2
}
